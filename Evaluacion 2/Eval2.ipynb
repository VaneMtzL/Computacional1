{
 "cells": [
  {
   "cell_type": "code",
   "execution_count": 1,
   "metadata": {
    "collapsed": true
   },
   "outputs": [],
   "source": [
    "import pandas as pd\n",
    "import numpy as np\n",
    "import matplotlib.pyplot as mplt\n",
    "import pylab as plt\n",
    "from matplotlib import rc\n",
    "from pylab import figure, show, legend, xlabel, ylabel\n",
    "\n",
    "df=pd.read_csv(\"/home/vanemtzl/Evaluación 2/solar.csv\")"
   ]
  },
  {
   "cell_type": "code",
   "execution_count": 2,
   "metadata": {
    "collapsed": false
   },
   "outputs": [
    {
     "data": {
      "text/plain": [
       "Index(['Año', 'Mes', 'Año Mes', 'No. manchas', 'x', 'y', 'Unnamed: 6'], dtype='object')"
      ]
     },
     "execution_count": 2,
     "metadata": {},
     "output_type": "execute_result"
    }
   ],
   "source": [
    "df.columns"
   ]
  },
  {
   "cell_type": "code",
   "execution_count": 3,
   "metadata": {
    "collapsed": true
   },
   "outputs": [],
   "source": [
    "#Para eliminar la columna que no tiene datos sólo asteriscos al final\n",
    "del df['Unnamed: 6']"
   ]
  },
  {
   "cell_type": "code",
   "execution_count": 4,
   "metadata": {
    "collapsed": false
   },
   "outputs": [
    {
     "data": {
      "text/html": [
       "<div>\n",
       "<table border=\"1\" class=\"dataframe\">\n",
       "  <thead>\n",
       "    <tr style=\"text-align: right;\">\n",
       "      <th></th>\n",
       "      <th>Año</th>\n",
       "      <th>Mes</th>\n",
       "      <th>Año Mes</th>\n",
       "      <th>No. manchas</th>\n",
       "      <th>x</th>\n",
       "      <th>y</th>\n",
       "    </tr>\n",
       "  </thead>\n",
       "  <tbody>\n",
       "    <tr>\n",
       "      <th>0</th>\n",
       "      <td>1749</td>\n",
       "      <td>1</td>\n",
       "      <td>1749.042</td>\n",
       "      <td>96.7</td>\n",
       "      <td>-1.0</td>\n",
       "      <td>-1</td>\n",
       "    </tr>\n",
       "    <tr>\n",
       "      <th>1</th>\n",
       "      <td>1749</td>\n",
       "      <td>2</td>\n",
       "      <td>1749.123</td>\n",
       "      <td>104.3</td>\n",
       "      <td>-1.0</td>\n",
       "      <td>-1</td>\n",
       "    </tr>\n",
       "    <tr>\n",
       "      <th>2</th>\n",
       "      <td>1749</td>\n",
       "      <td>3</td>\n",
       "      <td>1749.204</td>\n",
       "      <td>116.7</td>\n",
       "      <td>-1.0</td>\n",
       "      <td>-1</td>\n",
       "    </tr>\n",
       "    <tr>\n",
       "      <th>3</th>\n",
       "      <td>1749</td>\n",
       "      <td>4</td>\n",
       "      <td>1749.288</td>\n",
       "      <td>92.8</td>\n",
       "      <td>-1.0</td>\n",
       "      <td>-1</td>\n",
       "    </tr>\n",
       "    <tr>\n",
       "      <th>4</th>\n",
       "      <td>1749</td>\n",
       "      <td>5</td>\n",
       "      <td>1749.371</td>\n",
       "      <td>141.7</td>\n",
       "      <td>-1.0</td>\n",
       "      <td>-1</td>\n",
       "    </tr>\n",
       "  </tbody>\n",
       "</table>\n",
       "</div>"
      ],
      "text/plain": [
       "    Año  Mes   Año Mes  No. manchas    x  y\n",
       "0  1749    1  1749.042         96.7 -1.0 -1\n",
       "1  1749    2  1749.123        104.3 -1.0 -1\n",
       "2  1749    3  1749.204        116.7 -1.0 -1\n",
       "3  1749    4  1749.288         92.8 -1.0 -1\n",
       "4  1749    5  1749.371        141.7 -1.0 -1"
      ]
     },
     "execution_count": 4,
     "metadata": {},
     "output_type": "execute_result"
    }
   ],
   "source": [
    "df.head()"
   ]
  },
  {
   "cell_type": "code",
   "execution_count": 5,
   "metadata": {
    "collapsed": false
   },
   "outputs": [
    {
     "data": {
      "text/plain": [
       "Año            0\n",
       "Mes            0\n",
       "Año Mes        0\n",
       "No. manchas    0\n",
       "x              0\n",
       "y              0\n",
       "dtype: int64"
      ]
     },
     "execution_count": 5,
     "metadata": {},
     "output_type": "execute_result"
    }
   ],
   "source": [
    "df.apply(lambda x: sum(x.isnull()), axis=0)"
   ]
  },
  {
   "cell_type": "code",
   "execution_count": 6,
   "metadata": {
    "collapsed": false
   },
   "outputs": [
    {
     "data": {
      "text/html": [
       "<div>\n",
       "<table border=\"1\" class=\"dataframe\">\n",
       "  <thead>\n",
       "    <tr style=\"text-align: right;\">\n",
       "      <th></th>\n",
       "      <th>Año</th>\n",
       "      <th>Mes</th>\n",
       "      <th>Año Mes</th>\n",
       "      <th>No. manchas</th>\n",
       "      <th>x</th>\n",
       "      <th>y</th>\n",
       "    </tr>\n",
       "  </thead>\n",
       "  <tbody>\n",
       "    <tr>\n",
       "      <th>3208</th>\n",
       "      <td>2016</td>\n",
       "      <td>5</td>\n",
       "      <td>2016.373</td>\n",
       "      <td>52.1</td>\n",
       "      <td>4.7</td>\n",
       "      <td>810</td>\n",
       "    </tr>\n",
       "    <tr>\n",
       "      <th>3209</th>\n",
       "      <td>2016</td>\n",
       "      <td>6</td>\n",
       "      <td>2016.456</td>\n",
       "      <td>20.9</td>\n",
       "      <td>2.2</td>\n",
       "      <td>886</td>\n",
       "    </tr>\n",
       "    <tr>\n",
       "      <th>3210</th>\n",
       "      <td>2016</td>\n",
       "      <td>7</td>\n",
       "      <td>2016.540</td>\n",
       "      <td>32.5</td>\n",
       "      <td>3.7</td>\n",
       "      <td>910</td>\n",
       "    </tr>\n",
       "    <tr>\n",
       "      <th>3211</th>\n",
       "      <td>2016</td>\n",
       "      <td>8</td>\n",
       "      <td>2016.624</td>\n",
       "      <td>50.7</td>\n",
       "      <td>4.4</td>\n",
       "      <td>879</td>\n",
       "    </tr>\n",
       "    <tr>\n",
       "      <th>3212</th>\n",
       "      <td>2016</td>\n",
       "      <td>9</td>\n",
       "      <td>2016.708</td>\n",
       "      <td>44.7</td>\n",
       "      <td>3.8</td>\n",
       "      <td>742</td>\n",
       "    </tr>\n",
       "  </tbody>\n",
       "</table>\n",
       "</div>"
      ],
      "text/plain": [
       "       Año  Mes   Año Mes  No. manchas    x    y\n",
       "3208  2016    5  2016.373         52.1  4.7  810\n",
       "3209  2016    6  2016.456         20.9  2.2  886\n",
       "3210  2016    7  2016.540         32.5  3.7  910\n",
       "3211  2016    8  2016.624         50.7  4.4  879\n",
       "3212  2016    9  2016.708         44.7  3.8  742"
      ]
     },
     "execution_count": 6,
     "metadata": {},
     "output_type": "execute_result"
    }
   ],
   "source": [
    "df.tail()"
   ]
  },
  {
   "cell_type": "code",
   "execution_count": 14,
   "metadata": {
    "collapsed": false
   },
   "outputs": [
    {
     "data": {
      "image/png": "[encoded data removed]",
      "text/plain": [
       "<matplotlib.figure.Figure at 0x7fb9bdad6860>"
      ]
     },
     "metadata": {},
     "output_type": "display_data"
    }
   ],
   "source": [
    "from scipy.fftpack import fft, fftfreq, fftshift\n",
    "# number of signal points\n",
    "N = 3213\n",
    "# sample spacing\n",
    "T = 1\n",
    "x = df['Mes']\n",
    "y = df['No. manchas']\n",
    "yf = fft(y)\n",
    "xf = fftfreq(N, T)\n",
    "xf = fftshift(xf)\n",
    "yplot = fftshift(yf)\n",
    "import matplotlib.pyplot as plt\n",
    "plt.plot(xf, 2.0/N * np.abs(yplot))\n",
    "plt.xlim(0, 0.03)\n",
    "fig=plt.gcf()\n",
    "fig.set_size_inches(7,7)\n",
    "plt.title('Transformada de Furier para datos de manchas solares')\n",
    "\n",
    "plt.xlabel(\"Frecuencia (1/mes)\")\n",
    "plt.ylabel(\"Número de manchas\")\n",
    "\n",
    "plt.grid()\n",
    "plt.show()"
   ]
  },
  {
   "cell_type": "code",
   "execution_count": 8,
   "metadata": {
    "collapsed": true
   },
   "outputs": [],
   "source": [
    "a = 2*np.absolute(yf)/N"
   ]
  },
  {
   "cell_type": "code",
   "execution_count": 9,
   "metadata": {
    "collapsed": false
   },
   "outputs": [
    {
     "name": "stdout",
     "output_type": "stream",
     "text": [
      "(array([   0,    3,    4,   23,   24,   25,   27, 3186, 3188, 3189, 3190,\n",
      "       3209, 3210]),)\n"
     ]
    },
    {
     "data": {
      "text/plain": [
       "array([ 165.84712107,   22.79918361,   15.28281214,   22.67815211,\n",
       "         39.98723321,   35.419832  ,   30.90803788,   30.90803788,\n",
       "         35.419832  ,   39.98723321,   22.67815211,   15.28281214,\n",
       "         22.79918361])"
      ]
     },
     "execution_count": 9,
     "metadata": {},
     "output_type": "execute_result"
    }
   ],
   "source": [
    "print(np.where(a[:,]>15))\n",
    "b= a[a[:,]>15]\n",
    "b"
   ]
  },
  {
   "cell_type": "code",
   "execution_count": 18,
   "metadata": {
    "collapsed": false
   },
   "outputs": [],
   "source": [
    "#Número de manchas\n",
    "A1= 2*np.absolute(yf[23,]/N)\n",
    "A2= 2*np.absolute(yf[24,]/N)\n",
    "A3= 2*np.absolute(yf[25,]/N)\n",
    "\n",
    "#Frecuencia\n",
    "f1= xf[int(N/2 +23),]\n",
    "f2= xf[int(N/2 +24),]\n",
    "f3= xf[int(N/2 +25),]\n",
    "\n",
    "#Periodo\n",
    "p1= 1/(f1*12)\n",
    "p2= 1/(f2*12)\n",
    "p3= 1/(f3*12)"
   ]
  },
  {
   "cell_type": "code",
   "execution_count": 20,
   "metadata": {
    "collapsed": false
   },
   "outputs": [
    {
     "name": "stdout",
     "output_type": "stream",
     "text": [
      "Número de manchas= 22.6781521056\n",
      "Frecuencia= 0.00715841892312 1/mes\n",
      "Período= 11.6413043478 año\n",
      "\n",
      "Número de manchas= 39.9872332086\n",
      "Frecuencia= 0.00746965452848 1/mes\n",
      "Período= 11.15625 año\n",
      "\n",
      "Número de manchas= 35.4198320032\n",
      "Frecuencia= 0.00778089013383 1/mes\n",
      "Período= 10.71 año\n",
      "\n",
      "Promedio de frecuencias: 0.00746965452848\n"
     ]
    }
   ],
   "source": [
    "print('Número de manchas=', A1)\n",
    "print('Frecuencia=', f1, '1/mes')\n",
    "print('Período=', p1, 'año')\n",
    "print()\n",
    "\n",
    "print('Número de manchas=', A2)\n",
    "print('Frecuencia=', f2, '1/mes')\n",
    "print('Período=', p2, 'año')\n",
    "print()\n",
    "\n",
    "print('Número de manchas=', A3)\n",
    "print('Frecuencia=', f3, '1/mes')\n",
    "print('Período=', p3, 'año')\n",
    "print()\n",
    "\n",
    "print('Promedio de frecuencias:', (f1+f2+f3)/3)"
   ]
  },
  {
   "cell_type": "code",
   "execution_count": 15,
   "metadata": {
    "collapsed": false
   },
   "outputs": [
    {
     "data": {
      "image/png": "[encoded data removed]",
      "text/plain": [
       "<matplotlib.figure.Figure at 0x7fb9ba288400>"
      ]
     },
     "metadata": {},
     "output_type": "display_data"
    }
   ],
   "source": [
    "#Gráfica con etiquetas de los modos encontrados\n",
    "from scipy.fftpack import fft, fftfreq, fftshift\n",
    "# number of signal points\n",
    "N = 3213\n",
    "# sample spacing\n",
    "T = 1\n",
    "x = df['Mes']\n",
    "y = df['No. manchas']\n",
    "yf = fft(y)\n",
    "xf = fftfreq(N, T)\n",
    "xf = fftshift(xf)\n",
    "yplot = fftshift(yf)\n",
    "import matplotlib.pyplot as plt\n",
    "plt.plot(xf, 2.0/N * np.abs(yplot))\n",
    "plt.xlim(0, 0.02)\n",
    "fig=plt.gcf()\n",
    "fig.set_size_inches(7,7)\n",
    "plt.title('Transformada de Furier para datos de manchas solares')\n",
    "\n",
    "plt.xlabel(\"Frecuencia (1/mes)\")\n",
    "plt.ylabel(\"Número de manchas\")\n",
    "\n",
    "plt.text(0.007,41,\"1\")\n",
    "plt.text(0.0077,38,\"2\")\n",
    "plt.text(.0083,32,\"3\")\n",
    "\n",
    "plt.grid()\n",
    "plt.show()"
   ]
  },
  {
   "cell_type": "code",
   "execution_count": 21,
   "metadata": {
    "collapsed": true
   },
   "outputs": [],
   "source": [
    "a = 2*np.absolute(yf)/N"
   ]
  },
  {
   "cell_type": "code",
   "execution_count": 22,
   "metadata": {
    "collapsed": false
   },
   "outputs": [
    {
     "name": "stdout",
     "output_type": "stream",
     "text": [
      "(array([   0,    1,    2,    3,    4,    5,   18,   19,   22,   23,   24,\n",
      "         25,   26,   27,   28,   29,   30,   32,   33,   49, 3164, 3180,\n",
      "       3181, 3183, 3184, 3185, 3186, 3187, 3188, 3189, 3190, 3191, 3194,\n",
      "       3195, 3208, 3209, 3210, 3211, 3212]),)\n"
     ]
    },
    {
     "data": {
      "text/plain": [
       "array([ 165.84712107,   12.2404616 ,   11.62644929,   22.79918361,\n",
       "         15.28281214,   13.73590511,   10.24940903,   13.06489499,\n",
       "         12.50737479,   22.67815211,   39.98723321,   35.419832  ,\n",
       "         13.56290861,   30.90803788,   10.73240059,   14.12154193,\n",
       "         12.90840658,   10.55344184,   14.6282459 ,   10.17270309,\n",
       "         10.17270309,   14.6282459 ,   10.55344184,   12.90840658,\n",
       "         14.12154193,   10.73240059,   30.90803788,   13.56290861,\n",
       "         35.419832  ,   39.98723321,   22.67815211,   12.50737479,\n",
       "         13.06489499,   10.24940903,   13.73590511,   15.28281214,\n",
       "         22.79918361,   11.62644929,   12.2404616 ])"
      ]
     },
     "execution_count": 22,
     "metadata": {},
     "output_type": "execute_result"
    }
   ],
   "source": [
    "print(np.where(a[:,]>10))\n",
    "b= a[a[:,]>10]\n",
    "b"
   ]
  },
  {
   "cell_type": "code",
   "execution_count": 42,
   "metadata": {
    "collapsed": false
   },
   "outputs": [
    {
     "name": "stdout",
     "output_type": "stream",
     "text": [
      "Número de manchas o amplitudes\n",
      "22.7991836131\n",
      "15.2828121366\n",
      "13.7359051105\n",
      "13.0648949851\n",
      "13.5629086055\n",
      "30.9080378809\n",
      "14.1215419264\n",
      "\n",
      "Frecuencias\n",
      "0.00093370681606\n",
      "0.00124494242141\n",
      "0.00155617802677\n",
      "0.00591347650171\n",
      "0.00809212573918\n",
      "0.00840336134454\n",
      "0.00902583255524\n"
     ]
    }
   ],
   "source": [
    "#Otros modos\n",
    "print('Número de manchas o amplitudes')\n",
    "print(2*np.absolute(yf[3,]/N))\n",
    "print(2*np.absolute(yf[4,]/N))\n",
    "print(2*np.absolute(yf[5,]/N))\n",
    "print(2*np.absolute(yf[19,]/N))\n",
    "print(2*np.absolute(yf[26,]/N))\n",
    "print(2*np.absolute(yf[27,]/N))\n",
    "print(2*np.absolute(yf[29,]/N))\n",
    "print()\n",
    "\n",
    "print('Frecuencias')\n",
    "print(xf[int(N/2 +3),])\n",
    "print(xf[int(N/2 +4),])\n",
    "print(xf[int(N/2 +5),])\n",
    "print(xf[int(N/2 +19),])\n",
    "print(xf[int(N/2 +26),])\n",
    "print(xf[int(N/2 +27),])\n",
    "print(xf[int(N/2 +29),])"
   ]
  },
  {
   "cell_type": "code",
   "execution_count": null,
   "metadata": {
    "collapsed": true
   },
   "outputs": [],
   "source": []
  }
 ],
 "metadata": {
  "anaconda-cloud": {},
  "kernelspec": {
   "display_name": "Python [conda root]",
   "language": "python",
   "name": "conda-root-py"
  },
  "language_info": {
   "codemirror_mode": {
    "name": "ipython",
    "version": 3
   },
   "file_extension": ".py",
   "mimetype": "text/x-python",
   "name": "python",
   "nbconvert_exporter": "python",
   "pygments_lexer": "ipython3",
   "version": "3.5.2"
  }
 },
 "nbformat": 4,
 "nbformat_minor": 1
}
