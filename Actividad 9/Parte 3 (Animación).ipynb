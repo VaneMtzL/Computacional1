{
 "cells": [
  {
   "cell_type": "code",
   "execution_count": 5,
   "metadata": {
    "collapsed": true
   },
   "outputs": [],
   "source": [
    "import pynamical\n",
    "from pynamical import simulate, phase_diagram_3d\n",
    "import pandas as pd, numpy as np, matplotlib.pyplot as plt, random, glob, os, IPython.display as IPdisplay\n",
    "from PIL import Image\n",
    "%matplotlib inline"
   ]
  },
  {
   "cell_type": "code",
   "execution_count": 6,
   "metadata": {
    "collapsed": true
   },
   "outputs": [],
   "source": [
    "title_font = pynamical.get_title_font()\n",
    "label_font = pynamical.get_label_font()"
   ]
  },
  {
   "cell_type": "code",
   "execution_count": 8,
   "metadata": {
    "collapsed": true
   },
   "outputs": [],
   "source": [
    "# run the model for 4,000 generations for 50 growth rate parameters between 3.6 and 4.0\n",
    "pops = simulate(num_gens=4000, rate_min=3.6, rate_max=4.0, num_rates=50)"
   ]
  },
  {
   "cell_type": "code",
   "execution_count": 9,
   "metadata": {
    "collapsed": false
   },
   "outputs": [
    {
     "data": {
      "text/html": [
       "<img src=\"images/phase-animate/05-logistic-3d-phase-diagram-chaotic-regime.gif\"/>"
      ],
      "text/plain": [
       "<IPython.core.display.Image object>"
      ]
     },
     "execution_count": 9,
     "metadata": {},
     "output_type": "execute_result"
    }
   ],
   "source": [
    "# set a filename and create the plot\n",
    "gif_filename = '05-logistic-3d-phase-diagram-chaotic-regime'\n",
    "working_folder = '{}/{}'.format(save_folder, gif_filename)\n",
    "if not os.path.exists(working_folder):\n",
    "    os.makedirs(working_folder)\n",
    "    \n",
    "fig, ax = phase_diagram_3d(pops, color='viridis', color_reverse=False, show=False, save=False)\n",
    "\n",
    "# configure the initial viewing perspective\n",
    "ax.elev = 25.\n",
    "ax.azim = 321.\n",
    "ax.dist = 11.0\n",
    "\n",
    "# zoom in to reveal the 3-D structure of the strange attractor\n",
    "for n in range(0, 100):\n",
    "    if n <= 18:\n",
    "        ax.azim = ax.azim-0.2 #begin by rotating very slowly\n",
    "    if n >= 19 and n <= 29:\n",
    "        ax.azim = ax.azim-10\n",
    "        ax.dist = ax.dist-0.05\n",
    "        ax.elev = ax.elev-2 #quickly whip around to the other side\n",
    "    if n >= 33 and n <= 49:\n",
    "        ax.azim = ax.azim+3\n",
    "        ax.dist = ax.dist-0.55\n",
    "        ax.elev = ax.elev+1.4 #zoom into the center\n",
    "    if n >= 61 and n <= 79:\n",
    "        ax.azim = ax.azim-2\n",
    "        ax.elev = ax.elev-2\n",
    "        ax.dist = ax.dist+0.2 #pull back and pan up\n",
    "    if n >= 80:\n",
    "        ax.azim = ax.azim-0.2 #end by rotating very slowly\n",
    "    \n",
    "    # add a figure title to each plot then save the figure to the disk\n",
    "    fig.suptitle('Mapa logístico, r=3.6 a r=4.0', fontsize=16, x=0.5, y=0.85)\n",
    "    plt.savefig('{}/{}/img{:03d}.png'.format(save_folder, gif_filename, n), bbox_inches='tight')\n",
    "\n",
    "# don't display the static plot\n",
    "plt.close()\n",
    "\n",
    "# load all the static images into a list then save as an animated gif\n",
    "gif_filepath = '{}/{}.gif'.format(save_folder, gif_filename)\n",
    "images = [Image.open(image) for image in glob.glob('{}/*.png'.format(working_folder))]\n",
    "gif = images[0]\n",
    "gif.info['duration'] = 10 #milliseconds per frame\n",
    "gif.info['loop'] = 0 #how many times to loop (0=infinite)\n",
    "gif.save(fp=gif_filepath, format='gif', save_all=True, append_images=images[1:])\n",
    "IPdisplay.Image(url=gif_filepath)"
   ]
  },
  {
   "cell_type": "code",
   "execution_count": 10,
   "metadata": {
    "collapsed": true
   },
   "outputs": [],
   "source": [
    "save_folder = 'images/phase-animate'"
   ]
  },
  {
   "cell_type": "code",
   "execution_count": null,
   "metadata": {
    "collapsed": true
   },
   "outputs": [],
   "source": []
  }
 ],
 "metadata": {
  "kernelspec": {
   "display_name": "Python 3",
   "language": "python",
   "name": "python3"
  },
  "language_info": {
   "codemirror_mode": {
    "name": "ipython",
    "version": 3
   },
   "file_extension": ".py",
   "mimetype": "text/x-python",
   "name": "python",
   "nbconvert_exporter": "python",
   "pygments_lexer": "ipython3",
   "version": "3.6.0"
  }
 },
 "nbformat": 4,
 "nbformat_minor": 2
}
